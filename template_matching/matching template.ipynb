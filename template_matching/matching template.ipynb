{
 "cells": [
  {
   "cell_type": "code",
   "execution_count": 1,
   "metadata": {},
   "outputs": [],
   "source": [
    "import cv2\n",
    "import numpy as np\n"
   ]
  },
  {
   "cell_type": "code",
   "execution_count": null,
   "metadata": {},
   "outputs": [],
   "source": [
    "original_image_template = cv2.imread('rosh.jpg')\n",
    "cv2.imshow('Original Template', original_image_template)\n",
    "cv2.waitKey(0)\n",
    "\n",
    "height, width = original_image_template.shape[:2]\n",
    "\n",
    "original_image = cv2.imread('roshni.jpg')\n",
    "cv2.imshow('Original Image',original_image)\n",
    "cv2.waitKey(0)\n",
    "\n",
    "gray_template = cv2.cvtColor(original_image_template, cv2.COLOR_BGR2GRAY)\n",
    "gray_original = cv2.cvtColor(original_image, cv2.COLOR_BGR2GRAY)\n",
    "\n",
    "match = cv2.matchTemplate(gray_original, gray_template, cv2.TM_CCOEFF)\n",
    "min_val, max_val, min_loc, max_loc = cv2.minMaxLoc(match)\n",
    "\n",
    "top_left = max_loc\n",
    "bottom_right = (top_left[0]+height, top_left[1]+width)\n",
    "cv2.rectangle(original_image, top_left, bottom_right, (0,0,255), 5)\n"
   ]
  },
  {
   "cell_type": "code",
   "execution_count": null,
   "metadata": {},
   "outputs": [],
   "source": [
    "cv2.imshow(\"Original Image with matched area\", original_image)\n",
    "cv2.waitKey(0)\n",
    "\n",
    "cv2.destroyAllWindows()"
   ]
  },
  {
   "cell_type": "code",
   "execution_count": null,
   "metadata": {},
   "outputs": [],
   "source": []
  }
 ],
 "metadata": {
  "kernelspec": {
   "display_name": "Python 3",
   "language": "python",
   "name": "python3"
  },
  "language_info": {
   "codemirror_mode": {
    "name": "ipython",
    "version": 3
   },
   "file_extension": ".py",
   "mimetype": "text/x-python",
   "name": "python",
   "nbconvert_exporter": "python",
   "pygments_lexer": "ipython3",
   "version": "3.6.5"
  }
 },
 "nbformat": 4,
 "nbformat_minor": 2
}
